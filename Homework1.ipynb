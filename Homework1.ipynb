{
 "cells": [
  {
   "cell_type": "markdown",
   "id": "22c30eb0-9b3f-4aa3-b1f7-908d8ebebcee",
   "metadata": {
    "jp-MarkdownHeadingCollapsed": true
   },
   "source": [
    "Jason Pettinato HW 1\n",
    "I joined the class late, so I hope I do not lose any credit\n",
    "\n",
    "# Q1\n",
    "Suppose there is a jar with two coins in it. **Coin A comes up heads 75%** of the time. **Coin B comes up heads 50% of the time**. Say one of the coins is picked at random (with equal probability) and flipped, with the result of heads. What is the probability that the coin was coin A? Calculate by hand, using math. Show your work.\n",
    "\n",
    "### Solution\n",
    "Given information:\n",
    "$$p(h|A)=0.75$$\n",
    "$$p(h|B)=0.5$$\n",
    "$$p(A)=0.5$$\n",
    "$$p(B)=0.5$$\n",
    "Where $$p(A)+p(B)=1$$\n",
    "\n",
    "Find:\n",
    "$$p(A│h)$$\n",
    "\n",
    "Bayes Theorem:\n",
    "\n",
    "$$p(A|B)=\\frac{p(B|A)P(A)}{P(B)}$$\n",
    "\n",
    "\n",
    "Thus\n",
    "\n",
    "$$p(A│h)=\\frac{p(h|A)⋅p(A)}{p(h)}$$\n",
    "\n",
    "Next we find$$p(h)$$\n",
    "\n",
    "Using $$p(h)=p(h|A)\\cdot p(A) + p(h|B) \\cdot p(B) = 0.75*0.5 + 0.5*0.5 = 0.625$$\n",
    "\n",
    "Finally, plugging into Bayes:\n",
    "\n",
    "$$p(A│h)=\\frac{p(h|A)⋅p(A)}{p(h)} = \\frac{0.75 \\times 0.5}{0.625}=0.6$$"
   ]
  },
  {
   "cell_type": "markdown",
   "id": "05341741-1c38-45dd-ad2a-48fc56bf20a1",
   "metadata": {},
   "source": [
    "# Q2\n",
    "Write Pangolin code to calculate the answer to the previous question. Include in your report the code as well as the calculated probability. Do not use any other packages other than pangolin.\n",
    "\n",
    "\"Suppose there is a jar with two coins in it. **Coin A comes up heads 75%** of the time. **Coin B comes up heads 50% of the time**. Say one of the coins is picked at random (with equal probability) and flipped, with the result of heads. What is the probability that the coin was coin A?.\"\n",
    "### Solution"
   ]
  },
  {
   "cell_type": "code",
   "execution_count": 25,
   "id": "0e61ca06-43d2-489b-a8a4-a5d971612d1b",
   "metadata": {},
   "outputs": [
    {
     "name": "stdout",
     "output_type": "stream",
     "text": [
      "0.5999\n"
     ]
    }
   ],
   "source": [
    "import pangolin as pg \n",
    "\n",
    "# Proabaility of choosing A or B\n",
    "coinAB = pg.bernoulli(0.5)\n",
    "\n",
    "\n",
    "# Probabiliy of heads for A and B, respectively\n",
    "HeadsAB = pg.makerv([0.75,0.5])\n",
    "\n",
    "# We link the chance of getting A,B to the probability of getting heads from either\n",
    "coin = HeadsAB[coinAB]\n",
    "\n",
    "# We create a new variable \"flip\" which gives us the combined probability between A,B and heads,tails\n",
    "flip = pg.bernoulli(coin)\n",
    "\n",
    "# p(A) is the expectation of getting tails from a random coin. \n",
    "pA = pg.E(coinAB, flip,1) # let 1 --> heads\n",
    "\n",
    "# Since pA is the probability of tails (for some reason...), the opposite (1-p) should give us p(heads)\n",
    "print(1-pA)\n"
   ]
  },
  {
   "cell_type": "markdown",
   "id": "113b20f7-1968-4dec-9942-e22ff065f9b8",
   "metadata": {},
   "source": [
    "# Q3\n",
    "Suppose there is a jar with two coins in it. Coin A comes up heads 75% of the time. Coin B comes up heads 50% of the time. Say one of the coins is picked at random (with equal probability) and flipped 5 times with the result of (HEADS, HEADS, HEADS, TAILS, HEADS). What is the probability that the coin was coin A? Calculate by hand, using math. Show your work.\n",
    "\n",
    "### Solution\n",
    "We know\n",
    "$$ p(h|A)=0.75 \\ , \\ p(b|B) = 0.5$$\n",
    "\n",
    "Given that $$p(A)=p(B)=0.5$$ We **want to find** out $$p(A|information)$$ Where the information is that 5 subsequent flips were HHHTH\n",
    "let us call this information $\\theta$\n",
    "\n",
    "Using bayes thm: $$p(A|\\theta)=\\frac{p(\\theta|A)p(A)}{p(\\theta)}$$\n",
    "\n",
    "And so, we need to find out $p(\\theta|A) \\  ,  \\ p(\\theta)$\n",
    "\n",
    "$$p(\\theta)=p(\\theta|A)*p(A) + p(\\theta|B)*p(B)$$\n",
    "\n",
    "So we must find \n",
    "\n",
    "$$p(\\theta|A) \\ , \\ p(\\theta|B)$$\n",
    "\n",
    "The probability that the coin comes up HHHTH for A is:\n",
    "$$p(\\theta|A)=0.75^4 * 0.25=0.079$$\n",
    "\n",
    "Similarly for B:\n",
    "$$p(\\theta|B)=0.5^5 = 0.031$$\n",
    "\n",
    "So we can compute \n",
    "$$p(\\theta)=p(\\theta|A)*p(A) + p(\\theta|B)*p(B) = 0.079 * 0.5 +  0.031 * 0.5 = 0.055$$\n",
    "\n",
    "Finally\n",
    "$$p(A|\\theta)=\\frac{p(\\theta|A)p(A)}{p(\\theta)} = 0.718 $$"
   ]
  },
  {
   "cell_type": "markdown",
   "id": "12d2dd17-246d-446c-b68d-fbc747fe2cb6",
   "metadata": {},
   "source": [
    "## Q4\n",
    "Using Pangolin\\\n",
    "Suppose there is a jar with two coins in it. Coin A comes up heads 75% of the time. Coin B comes up heads 50% of the time. Say one of the coins is picked at random (with equal probability) and flipped 5 times with the result of (HEADS, HEADS, HEADS, TAILS, HEADS). What is the probability that the coin was coin A? \n",
    "\n",
    "### Solution"
   ]
  },
  {
   "cell_type": "code",
   "execution_count": 27,
   "id": "b228832f-6512-451f-8140-965652163884",
   "metadata": {},
   "outputs": [
    {
     "name": "stdout",
     "output_type": "stream",
     "text": [
      "0.7167\n"
     ]
    }
   ],
   "source": [
    "import pangolin as pg\n",
    "\n",
    "# Proabaility of choosing A or B\n",
    "coinAB = pg.bernoulli(0.5)\n",
    "\n",
    "\n",
    "# Probabiliy of heads for A and B, respectively\n",
    "HeadsAB = pg.makerv([0.75,0.5])\n",
    "\n",
    "# Link the distribution to the random variables\n",
    "coin = HeadsAB[coinAB]\n",
    "\n",
    "# Given\n",
    "n_flips = 5\n",
    "\n",
    "# In hindsight, this could be done with pg.Loop()\n",
    "# Getting 5 random variables since each is idd\n",
    "flips = [pg.bernoulli(coin) for _ in range(n_flips)]\n",
    "# pg.print_upstream(flips)\n",
    "\n",
    "# Use expectation given the data to find p(tails) --> not sure how to directly calculate p(heads)\n",
    "pA = pg.E(coinAB, flips,[1,1,1,0,1])\n",
    "\n",
    "# p(heads) = 1-p(tails) ---> p(heads) + p(tails) == 1\n",
    "# not sure how to just get p(heads) from pg.E...\n",
    "print(1-pA)\n",
    "\n",
    "\n"
   ]
  },
  {
   "cell_type": "markdown",
   "id": "4c5a86a6-273c-4b19-8ee5-edddb2619b60",
   "metadata": {},
   "source": [
    "## Q5\n",
    "One day, you find a fancy-looking sculpture outside your house. Doing some searching online, you figure that it is an AwesomeSculture, made by AwesomeCo™️. But AwesomeCo seems to make 5 different models, each with different weights. The AwesomeMark1 weighs 1 kg. The AwesomeMark2 weights 2 kg, etc., until the AwesomeMark5 that weighs 5 kg. You want to know which one you have.\n",
    "\n",
    "Your sculpture seems to resemble all 5 models equally, and they seem to be equally common. So you assume a uniform prior distribution that each sculpture is equally likely.\n",
    "\n",
    "Now, you have a scale. It is unbiased, but noisy. Whatever the true weight is, the scale returns a noisy measurement that is correct on average but has noise. The noise is sampled from a standard Gaussian distribution (mean 0, standard deviation 1).\n",
    "\n",
    "So you put the sculpture on the scale, and you measure 2.9 kg. What is the probability that you have a AwesomeMark1, AwesomeMark2, AwesomeMark3, AwesomeMark4, or AwesomeMark5?\n",
    "Write a short Python program to calculate the answer. In this program, you may use the function scipy.stats.norm.pdf but no other imports. In addition to your program, give the final probabilities as a list of five positive numbers that sum to one.\n",
    "\n",
    "### Solution\n",
    "We find an object from company\n",
    "There are 5 different models of object from company each with weights (1,2,3,4,5)\n",
    "Assume *uniform prior distribution* for each sculpture type\n",
    "We **measure** on an *unbiased, but noisy scale* \n",
    "The noise is sampled from \\\n",
    "$N(0,1)$ \n",
    "\n",
    "We measure 2.9 kg, find the probability that our sample is from each of the five models (1,2,3,4,5)\n",
    "Show the sum of the probabilities, and that they add up to one"
   ]
  },
  {
   "cell_type": "code",
   "execution_count": null,
   "id": "3f741a02-a30f-4be0-8b05-ff7ddd1c3ce7",
   "metadata": {},
   "outputs": [
    {
     "name": "stdout",
     "output_type": "stream",
     "text": [
      "AwesomeMark1: 0.0662\n",
      "AwesomeMark2: 0.2686\n",
      "AwesomeMark3: 0.4008\n",
      "AwesomeMark4: 0.2199\n",
      "AwesomeMark5: 0.0444\n",
      "\n",
      "Sum of all probabilities:\n",
      "1.0\n"
     ]
    }
   ],
   "source": [
    "from scipy.stats import norm\n",
    "\n",
    "\n",
    "\n",
    "# Ground truth\n",
    "weights = [1, 2, 3, 4, 5]\n",
    "\n",
    "# Observation\n",
    "measurement = 2.9\n",
    "\n",
    "# Calculate likelihoods\n",
    "# We shift the distribution along our weights\n",
    "likelihoods = [norm.pdf(measurement, loc=w, scale=1) for w in weights]\n",
    "\n",
    "# Calculate total likelihood to get probability\n",
    "total_likelihood = sum(likelihoods)\n",
    "\n",
    "# Calculate and print probabilities\n",
    "probabilities = []\n",
    "# Loop over each model, and designate our posterior probability\n",
    "for i, likelihood in enumerate(likelihoods, 1):\n",
    "    probability = likelihood / total_likelihood\n",
    "    probabilities.append(probability)\n",
    "    print(f\"AwesomeMark{i}: {probability:.4f}\")\n",
    "\n",
    "print(\"\\nSum of all probabilities:\")\n",
    "print(sum(probabilities))\n"
   ]
  },
  {
   "cell_type": "markdown",
   "id": "978fa17b-4e54-40f4-a64c-c54fed1a892f",
   "metadata": {},
   "source": [
    "\n"
   ]
  },
  {
   "cell_type": "markdown",
   "id": "1fe78bd2-fcc5-4919-97c9-434131c11529",
   "metadata": {},
   "source": [
    "Q6\n",
    "Write Pangolin code to calculate the answer to the previous question. Include in your report the code as well as the calculated probabilities. (You may need to do a little post-processing to calculate your answer)"
   ]
  },
  {
   "cell_type": "code",
   "execution_count": 28,
   "id": "fcbe6367-a361-46be-bde2-4ce2bf7e9839",
   "metadata": {},
   "outputs": [
    {
     "name": "stdout",
     "output_type": "stream",
     "text": [
      "Posterior probabilities: {1: Array(0.0688, dtype=float32, weak_type=True), 2: Array(0.2688, dtype=float32, weak_type=True), 3: Array(0.3987, dtype=float32, weak_type=True), 4: Array(0.2184, dtype=float32, weak_type=True), 5: Array(0.0453, dtype=float32, weak_type=True)}\n",
      "The probabilities all add up to one: 1.0\n"
     ]
    }
   ],
   "source": [
    "import pangolin as pg\n",
    "\n",
    "# Define the weights (models) and a uniform prior model\n",
    "weights = pg.makerv([1, 2, 3, 4, 5])  # Weights of the 5 models\n",
    "prior_model = pg.categorical([1/5] * 5)  # Uniform prior for the 5 models\n",
    "statue = 2.9  # Observed weight\n",
    "\n",
    "true_weight = weights[prior_model]\n",
    "\n",
    "observed_weight = pg.normal(true_weight, 1)\n",
    "\n",
    "# Posterior samples\n",
    "samples = pg.sample(prior_model, observed_weight, statue, niter=10000)\n",
    "\n",
    "# List comprehension + dict for fun\n",
    "posterior_probs = {i + 1: sum(samples == i) / len(samples) for i in range(len(weights))}\n",
    "\n",
    "print(\"Posterior probabilities:\", posterior_probs)\n",
    "print(f\"The probabilities all add up to one: {sum(posterior_probs.values())}\")\n",
    "\n",
    " "
   ]
  },
  {
   "cell_type": "markdown",
   "id": "4e7be975-1f9e-4c40-95a9-5c7c2241daba",
   "metadata": {},
   "source": [
    "Q7\n",
    "Now, say you do 3 more measurements, so you have a total of 4 (including the previous ones). Your measurements are: 2.9, 4.2, 3.5, 2.5.\n",
    "Now, what is the probability you have AwesomeMark1? What about AwesomeMark2? AwesomeMark3? AwesomeMark4? AwesomeMark5?\n",
    "Write a short Python program to calculate the answer. In this program, you may use the function scipy.stats.norm.pdf and math.prod but no other imports. In addition to your program, give the final probabilities as a list of five positive numbers that sum to one."
   ]
  },
  {
   "cell_type": "code",
   "execution_count": 2,
   "id": "431b22bf-2917-4280-9d3b-9a47edcc6e89",
   "metadata": {},
   "outputs": [
    {
     "name": "stdout",
     "output_type": "stream",
     "text": [
      "AwesomeMark1: 0.0000\n",
      "AwesomeMark2: 0.0310\n",
      "AwesomeMark3: 0.6874\n",
      "AwesomeMark4: 0.2795\n",
      "AwesomeMark5: 0.0021\n",
      "\n",
      "Sum of all probabilities: 0.9999999999999999\n"
     ]
    }
   ],
   "source": [
    "from scipy.stats import norm\n",
    "from math import prod\n",
    "\n",
    "likelihoods = []\n",
    "\n",
    "# Ground truth\n",
    "weights = [1, 2, 3, 4, 5]\n",
    "\n",
    "# Observation\n",
    "measurements = [2.9, 4.2, 3.5, 2.5]\n",
    "\n",
    "# Calculate likelihoods\n",
    "# We shift the distribution along our weights\n",
    "for w in weights:\n",
    "    likelihood_per_weight = [norm.pdf(measurement, loc=w, scale=1) for measurement in measurements]\n",
    "    # Multiply the individual likelihoods together to get the joint likelihood\n",
    "    joint_likelihood = prod(likelihood_per_weight)\n",
    "    likelihoods.append(joint_likelihood)\n",
    "\n",
    "# Normalize the likelihoods to sum to 1 (posterior probabilities)\n",
    "total_likelihood = sum(likelihoods)\n",
    "probabilities = [likelihood / total_likelihood for likelihood in likelihoods]\n",
    "\n",
    "# Print the final probabilities for each model\n",
    "for i, probability in enumerate(probabilities, 1):\n",
    "    print(f\"AwesomeMark{i}: {probability:.4f}\")\n",
    "\n",
    "# Ensure that the probabilities sum to 1\n",
    "print(\"\\nSum of all probabilities:\", sum(probabilities))"
   ]
  },
  {
   "cell_type": "markdown",
   "id": "0a9a3053-04d4-4704-a69d-3ccba85c8f25",
   "metadata": {},
   "source": [
    "Q8\n",
    "Write Pangolin code to calculate the answer in the previous question. Include in your report your code as well as the calculated probabilities."
   ]
  },
  {
   "cell_type": "code",
   "execution_count": 30,
   "id": "5ee46eb5-3f34-425a-94a1-07c3c5e50db8",
   "metadata": {},
   "outputs": [
    {
     "name": "stdout",
     "output_type": "stream",
     "text": [
      "Posterior probabilities: {1: Array(0., dtype=float32), 2: Array(0.0322, dtype=float32), 3: Array(0.6853, dtype=float32), 4: Array(0.2805, dtype=float32), 5: Array(0.002, dtype=float32)}\n"
     ]
    }
   ],
   "source": [
    "import pangolin as pg\n",
    "\n",
    "# Define the weights (models) and uniform prior\n",
    "weights = pg.makerv([1, 2, 3, 4, 5])  # 5 possible weights corresponding to models\n",
    "prior_model = pg.categorical([1/5] * 5)  # Uniform prior over the models\n",
    "statue_measurements = [2.9, 4.2, 3.5, 2.5]  # Multiple measurements\n",
    "\n",
    "# The true weight depends on the selected model\n",
    "true_weight = weights[prior_model]\n",
    "\n",
    "# Define likelihoods for each measurement\n",
    "likelihoods = [pg.normal(true_weight, 1) for _ in statue_measurements]\n",
    "\n",
    "# Perform sampling from the posterior distribution\n",
    "samples = pg.sample([prior_model], likelihoods, statue_measurements, niter=10000)\n",
    "\n",
    "# Convert the samples into a list and calculate the posterior probabilities\n",
    "samples_list = samples[0]  # Extract samples for the prior model\n",
    "posterior_probs = {i + 1: (samples_list == i).sum() / len(samples_list) for i in range(len(weights))}\n",
    "\n",
    "# Print posterior probabilities for each model\n",
    "print(\"Posterior probabilities:\", posterior_probs)\n"
   ]
  },
  {
   "cell_type": "markdown",
   "id": "f1c400a1-2508-410a-b492-513014481600",
   "metadata": {},
   "source": [
    "Q9\n",
    "Wait, no! Looking closer, you realize your sculpture isn't made by AwesomeCo, it's made by MegaCo™️. MegaCo is so awesome that it doesn't even have model numbers. When someone buys a sculpture from MegaCo, a weight is randomly chosen uniformly from all weights between 1 kg and 5 kg. (For example, one person might get a 2.73246452327 kg sculpture, another a 4.21138524 kg one.)\n",
    "Write Pangolin code to sample from the posterior over all possible weights of your model given all four previous observations (2.9, 4.2, 3.5, 2.5). Draw samples from the posterior and make a plot of the samples.\n",
    "(Hint: Use the density=True and bins=100 when calling matplotlib.pyplot.hist.)"
   ]
  },
  {
   "cell_type": "code",
   "execution_count": 32,
   "id": "db866575-8cbd-478a-bc3d-b5dac7b18688",
   "metadata": {},
   "outputs": [
    {
     "data": {
      "image/png": "[encoded data removed]",
      "text/plain": [
       "<Figure size 640x480 with 1 Axes>"
      ]
     },
     "metadata": {},
     "output_type": "display_data"
    }
   ],
   "source": [
    "import pangolin as pg\n",
    "import matplotlib.pyplot as plt\n",
    "\n",
    "# Givens, distribution definitions\n",
    "weights = pg.uniform(1, 5)  # Prior\n",
    "statue_measurements = [2.9, 4.2, 3.5, 2.5]  # Multiple measurements\n",
    "\n",
    "# Likelihood\n",
    "likelihoods = [pg.normal(weights, 1) for _ in statue_measurements]\n",
    "\n",
    "# Posterior\n",
    "samples = pg.sample([weights], likelihoods, statue_measurements, niter=10000)\n",
    "\n",
    "# Get our data from the sampling\n",
    "weight_samples = samples[0]\n",
    "\n",
    "# Plotting our bayesian results\n",
    "plt.hist(weight_samples, bins=100, density=True, alpha=0.75)\n",
    "plt.xlabel('Weight (kg)')\n",
    "plt.ylabel('Probability Density')\n",
    "plt.title('Posterior Distribution of Weights')\n",
    "plt.show()"
   ]
  }
 ],
 "metadata": {
  "kernelspec": {
   "display_name": "Python 3 (ipykernel)",
   "language": "python",
   "name": "python3"
  },
  "language_info": {
   "codemirror_mode": {
    "name": "ipython",
    "version": 3
   },
   "file_extension": ".py",
   "mimetype": "text/x-python",
   "name": "python",
   "nbconvert_exporter": "python",
   "pygments_lexer": "ipython3",
   "version": "3.12.6"
  }
 },
 "nbformat": 4,
 "nbformat_minor": 5
}
