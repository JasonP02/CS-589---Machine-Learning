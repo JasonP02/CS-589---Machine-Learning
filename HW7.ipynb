{
 "cells": [
  {
   "cell_type": "markdown",
   "metadata": {},
   "source": [
    "Jason Pettinato\n",
    "jpettinato@umass.edu"
   ]
  },
  {
   "cell_type": "markdown",
   "metadata": {},
   "source": [
    "\n",
    "# Building your own automatic differentiation\n",
    "\n",
    "In this homework, you will implement automatic differentiation.\n",
    "\n",
    "To set up your assignment, use the following code. This will define a set of primitive functions through which you can define expression graphs."
   ]
  },
  {
   "cell_type": "code",
   "execution_count": 3,
   "metadata": {},
   "outputs": [],
   "source": [
    "import operator\n",
    "\n",
    "add = operator.add\n",
    "sub = operator.sub\n",
    "mul = operator.mul\n",
    "div = operator.truediv\n",
    "primitives = [add, sub, mul, div]"
   ]
  },
  {
   "cell_type": "markdown",
   "metadata": {},
   "source": [
    "\n",
    "**Question 1**: Implement forward propagation. Define the following function.\n",
    "\n",
    "```python\n",
    "def fw_prop(x, funs, parents):\n",
    "    \"\"\"Inputs:\n",
    "    x: A list of floating point values, the inputs to this function.\n",
    "    funs: A list of functions, each an element of basic funs.\n",
    "    parents: A list of pairs of parents, each an integer.\n",
    "    \"\"\"\n",
    "    # do stuff\n",
    "    return final_value # a single scalar\n",
    "```\n",
    "\n",
    "This function should do forward propagation, and return the final scalar output.\n",
    "\n",
    "*Hint:* Your instructor’s implementation is less than 10 lines long.\n",
    "\n",
    "To understand this function, suppose that it is called on the following inputs:\n",
    "\n",
    "- `x=[2.0, 3.0]`\n",
    "- `funs=[add]`\n",
    "- `parents=[[0,1]]`\n",
    "\n",
    "Then the expression graph simply defines the function `x[0]+x[1]` and so should return 5.\n",
    "\n",
    "On the other hand, suppose the function is called on the following inputs:\n",
    "\n",
    "- `x=[2.0, 5.0]`\n",
    "- `funs=[add, mul]`\n",
    "- `parents=[[0,1],[0,2]]`\n",
    "\n",
    "Then the expression graph defines the function `x[0]*(x[0]+x[1])`  and should return 14.\n",
    "\n",
    "On the other hand, suppose the function is called on the following inputs:\n",
    "\n",
    "- `x=[1.0, 1.0]`\n",
    "- `funs=[add, add, add, add, add]`\n",
    "- `parents=[[0,1],[1,2],[2,3],[3,4],[4,5]]`\n",
    "\n",
    "Then the expression graph defines successive terms in the Fibonnaci sequence and should return 13.\n",
    "\n",
    "For your solution, you only need to provide your code. Provide your code directly in your solution PDF."
   ]
  },
  {
   "cell_type": "code",
   "execution_count": 5,
   "metadata": {},
   "outputs": [],
   "source": [
    "\n",
    "def fw_prop(x, funs, parents):\n",
    "    \"\"\"Inputs:\n",
    "    x: A list of floating point values, the inputs to this function.\n",
    "    funs: A list of functions, each an element of basic funs.\n",
    "    parents: A list of pairs of parents, each an integer.\n",
    "    \"\"\"\n",
    "\n",
    "    for idx in range(len(funs)):\n",
    "        parent = parents[idx]\n",
    "        fun = funs[idx]\n",
    "        x1 = x[parent[0]]\n",
    "        x2 = x[parent[1]]\n",
    "\n",
    "        x_operation = fun(x1,x2)\n",
    "        x.append(x_operation)\n",
    "    \n",
    "    final_value = x[-1]\n",
    "    return final_value # a single scalar"
   ]
  },
  {
   "cell_type": "markdown",
   "metadata": {},
   "source": [
    "\n",
    "**Question 2**: Run the following code:\n",
    "\n",
    "```python\n",
    "x = [1.1, 2.2, 3.3]\n",
    "parents = [[0,2],[1,3],[2,4], [4,5]]\n",
    "funs = [mul, div, pow, sub]\n",
    "fw_prop(x, funs, parents)\n",
    "```\n",
    "\n",
    "What does your code output? All you need to provide is a number."
   ]
  },
  {
   "cell_type": "code",
   "execution_count": 6,
   "metadata": {},
   "outputs": [
    {
     "data": {
      "text/plain": [
       "-1.455759985551453"
      ]
     },
     "execution_count": 6,
     "metadata": {},
     "output_type": "execute_result"
    }
   ],
   "source": [
    "x = [1.1, 2.2, 3.3]\n",
    "parents = [[0,2],[1,3],[2,4], [4,5]]\n",
    "funs = [mul, div, pow, sub]\n",
    "fw_prop(x, funs, parents)"
   ]
  },
  {
   "cell_type": "markdown",
   "metadata": {},
   "source": [
    "\n",
    "**Question 3**: Implement finite difference gradients. You will exploit the fact that\n",
    "\n",
    "$$\n",
    "\\frac{\\partial f(x)}{\\partial x_i} \\approx \\frac{1}{2 \\epsilon} (f(x+\\epsilon \\hat{e}_i)-f(x-\\epsilon \\hat{e}_i)),\n",
    "$$\n",
    "\n",
    "where $\\hat{e}_i$ indicates the indicator function in the i-th dimension. Define the following functoin\n",
    "\n",
    "```python\n",
    "def finite_diff_grad(x, funs, parents):\n",
    "    \"\"\"Inputs:\n",
    "    x: A list of floating point values, the inputs to this function.\n",
    "    funs: A list of functions, each an element of basic funs.\n",
    "    parents: A list of pairs of parents, each an integer.\n",
    "    \"\"\"\n",
    "    epsilon = 1e-5\n",
    "    # do stuff\n",
    "    return grad # A list of floats, same length as x\n",
    "```\n",
    "\n",
    "When you implement this function, you should call `fw_prop`  2*D times, where D is the length of `x`. (This function is quite slow for large inputs, which is why we prefer to use backpropagation!)\n",
    "\n",
    "For your solution, you only need to provide your code. Provide your code directly in your solution PDF."
   ]
  },
  {
   "cell_type": "code",
   "execution_count": 9,
   "metadata": {},
   "outputs": [],
   "source": [
    "def finite_diff_grad(x, funs, parents):\n",
    "    \"\"\"Calculate gradient using finite differences\"\"\"\n",
    "    epsilon = 1e-5\n",
    "    grad = []\n",
    "    \n",
    "    # For each input value in x\n",
    "    for i in range(len(x)):\n",
    "        # Create x + epsilon*e_i\n",
    "        x_plus = x.copy()\n",
    "        x_plus[i] += epsilon\n",
    "        \n",
    "        # Create x - epsilon*e_i\n",
    "        x_minus = x.copy()\n",
    "        x_minus[i] -= epsilon\n",
    "        \n",
    "        # Calculate (f(x + epsilon*e_i) - f(x - epsilon*e_i)) / (2*epsilon)\n",
    "        f_plus = fw_prop(x_plus.copy(), funs, parents)\n",
    "        f_minus = fw_prop(x_minus.copy(), funs, parents)\n",
    "        \n",
    "        partial_derivative = (f_plus - f_minus) / (2 * epsilon)\n",
    "        grad.append(partial_derivative)\n",
    "    \n",
    "    return grad"
   ]
  },
  {
   "cell_type": "markdown",
   "metadata": {},
   "source": []
  },
  {
   "cell_type": "markdown",
   "metadata": {},
   "source": [
    "\n",
    "**Question 4**: Run the following code\n",
    "\n",
    "```python\n",
    "x = [1.1, 2.2, 3.3]\n",
    "parents = [[0,2],[1,3],[2,4], [4,5]]\n",
    "funs = [mul, div, div, sub]\n",
    "finite_diff_grad(x, funs, parents)\n",
    "```\n",
    "\n",
    "What does your code output? All you need to provide is a list of numbers."
   ]
  },
  {
   "cell_type": "code",
   "execution_count": 10,
   "metadata": {},
   "outputs": [
    {
     "data": {
      "text/plain": [
       "[-5.500964187410417, 2.750482093727413, -3.4836547291305915]"
      ]
     },
     "execution_count": 10,
     "metadata": {},
     "output_type": "execute_result"
    }
   ],
   "source": [
    "x = [1.1, 2.2, 3.3]\n",
    "parents = [[0,2],[1,3],[2,4], [4,5]]\n",
    "funs = [mul, div, div, sub]\n",
    "finite_diff_grad(x, funs, parents)"
   ]
  },
  {
   "cell_type": "markdown",
   "metadata": {},
   "source": [
    "\n",
    "**Question 5**: Implement backpropagation. You should implement the following function: \n",
    "\n",
    "```python\n",
    "def bw_prop(x, funs, parents):\n",
    "    \"\"\"Inputs:\n",
    "    x: A list of floating point values, the inputs to this function.\n",
    "    funs: A list of functions, each an element of basic funs.\n",
    "    parents: A list of pairs of parents, each an integer.\n",
    "    \"\"\"\n",
    "    # do stuff\n",
    "    return grad # A list of floats, same length as x\n",
    "```\n",
    "\n",
    "Unlike finite differences, this code should have complexity only around twice as slow as `fw_prop`, no matter how big the function.\n",
    "\n",
    "*Hint:* Your instructor’s implementation is less than 35 lines long.\n",
    "\n",
    "For your solution, you only need to provide your code. Provide your code directly in your solution PDF."
   ]
  },
  {
   "cell_type": "code",
   "execution_count": 23,
   "metadata": {},
   "outputs": [],
   "source": [
    "def bw_prop(x, funs, parents):\n",
    "    \"\"\"Inputs:\n",
    "    x: A list of floating point values, the inputs to this function.\n",
    "    funs: A list of functions, each an element of basic funs.\n",
    "    parents: A list of pairs of parents, each an integer.\n",
    "    \"\"\"\n",
    "    for idx in range(len(funs)):\n",
    "        parent = parents[idx]\n",
    "        fun = funs[idx]\n",
    "        x1 = x[parent[0]]\n",
    "        x2 = x[parent[1]]\n",
    "\n",
    "        x_operation = fun(x1,x2)\n",
    "        x.append(x_operation)\n",
    "    \n",
    "    # Initialize gradients\n",
    "    grads = [0] * len(x)  \n",
    "    grads[-1] = 1    \n",
    "    \n",
    "    # Backward pass; this is reverse indexing\n",
    "    for idx in range(len(funs) - 1, -1, -1):\n",
    "        parent1, parent2 = parents[idx]\n",
    "        fun = funs[idx]\n",
    "        x1, x2 = x[parent1], x[parent2]\n",
    "        current_idx = idx + len(x) - len(funs)\n",
    "        grad_output = grads[current_idx]\n",
    "        \n",
    "        # Compute partial derivatives based on the operation\n",
    "        if fun == mul:\n",
    "            grads[parent1] += grad_output * x2\n",
    "            grads[parent2] += grad_output * x1\n",
    "        elif fun == div:\n",
    "            grads[parent1] += grad_output / x2\n",
    "            grads[parent2] += grad_output * (-x1 / (x2 * x2))\n",
    "        elif fun == add:\n",
    "            grads[parent1] += grad_output\n",
    "            grads[parent2] += grad_output\n",
    "        elif fun == sub:\n",
    "            grads[parent1] += grad_output\n",
    "            grads[parent2] += -grad_output\n",
    "    \n",
    "    return grads[:len(x) - len(funs)]"
   ]
  },
  {
   "cell_type": "markdown",
   "metadata": {},
   "source": [
    "\n",
    "**Question 6**: Run the following code:\n",
    "\n",
    "```python\n",
    "x = [1.1, 2.2, 3.3]\n",
    "parents = [[0,2],[1,3],[2,4], [4,5]]\n",
    "funs = [mul, div, div, sub]\n",
    "bw_prop(x, funs, parents)\n",
    "```\n",
    "\n",
    "What does your code output? All you need to provide is a list of numbers.\n",
    "\n",
    "*Hint*: You should get something very close to what you got with finite differences. If you don’t, you have an error!"
   ]
  },
  {
   "cell_type": "code",
   "execution_count": 24,
   "metadata": {},
   "outputs": [
    {
     "data": {
      "text/plain": [
       "[-5.500964187327824, 2.7504820936639116, -3.4836547291092748]"
      ]
     },
     "execution_count": 24,
     "metadata": {},
     "output_type": "execute_result"
    }
   ],
   "source": [
    "\n",
    "x = [1.1, 2.2, 3.3]\n",
    "parents = [[0,2],[1,3],[2,4], [4,5]]\n",
    "funs = [mul, div, div, sub]\n",
    "bw_prop(x, funs, parents)"
   ]
  }
 ],
 "metadata": {
  "kernelspec": {
   "display_name": "base",
   "language": "python",
   "name": "python3"
  },
  "language_info": {
   "codemirror_mode": {
    "name": "ipython",
    "version": 3
   },
   "file_extension": ".py",
   "mimetype": "text/x-python",
   "name": "python",
   "nbconvert_exporter": "python",
   "pygments_lexer": "ipython3",
   "version": "3.12.3"
  }
 },
 "nbformat": 4,
 "nbformat_minor": 2
}
